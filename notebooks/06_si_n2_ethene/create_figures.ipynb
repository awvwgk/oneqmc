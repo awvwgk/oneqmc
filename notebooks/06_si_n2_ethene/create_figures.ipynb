{
 "cells": [
  {
   "cell_type": "code",
   "execution_count": null,
   "id": "e9eff3de-0a98-4b7b-a152-82871c042404",
   "metadata": {},
   "outputs": [],
   "source": [
    "import pandas as pd\n",
    "import numpy as np\n",
    "import matplotlib.pyplot as plt\n",
    "\n",
    "from oneqmc.analysis import HARTREE_TO_KCAL, colours\n",
    "from oneqmc.analysis.plot import set_defaults\n",
    "\n",
    "set_defaults()"
   ]
  },
  {
   "cell_type": "code",
   "execution_count": null,
   "id": "3cea3bde-d953-46ce-82e1-cbb06b12066b",
   "metadata": {},
   "outputs": [],
   "source": [
    "df = pd.read_csv(\"../../experiment_results/06_si_n2_ethene/processed.csv\")"
   ]
  },
  {
   "cell_type": "code",
   "execution_count": null,
   "id": "ecf4978e-d8b5-42e2-8e95-ade131fad98d",
   "metadata": {},
   "outputs": [],
   "source": [
    "fig, ax = plt.subplots(figsize=(7, 5.5))\n",
    "ax.errorbar(\n",
    "    df[\"Bond length\"],\n",
    "    HARTREE_TO_KCAL * df[\"Orbformer N2 energy error\"],\n",
    "    HARTREE_TO_KCAL * df[\"Orbformer N2 stdev\"],\n",
    "    linestyle=\"\",\n",
    "    marker=\".\",\n",
    "    capsize=3,\n",
    "    c=colours.TEAL,\n",
    "    label=r\"Orbformer (N$_2$)\",\n",
    ")\n",
    "ax.errorbar(\n",
    "    df[\"Bond length\"],\n",
    "    HARTREE_TO_KCAL * df[\"Orbformer N2 ethene energy error\"],\n",
    "    HARTREE_TO_KCAL * df[\"Orbformer N2 ethene stdev\"],\n",
    "    linestyle=\"\",\n",
    "    marker=\".\",\n",
    "    capsize=3,\n",
    "    c=colours.YELLOW,\n",
    "    label=r\"Orbformer (N$_2$ + C$_2$H$_4$)\",\n",
    ")\n",
    "ax.scatter(\n",
    "    df[\"Bond length\"],\n",
    "    HARTREE_TO_KCAL * df[\"Pfaffian energy error\"],\n",
    "    marker=\".\",\n",
    "    color=colours.PURPLE,\n",
    "    label=\"Pfaffian of Gao, shifted (N$_2$ + C$_2$H$_4$)\",\n",
    ")\n",
    "ax.axhline(0, linestyle=\"--\", color=\"gray\")\n",
    "ax.set_ylabel(\"Relative energy error (kcal/mol)\")\n",
    "ax.set_xlabel(\"Bond length (bohr)\")\n",
    "ax.legend()\n",
    "fig.tight_layout()"
   ]
  },
  {
   "cell_type": "code",
   "execution_count": null,
   "id": "96ad9699-1907-4898-8b72-31e6ea84f038",
   "metadata": {},
   "outputs": [],
   "source": []
  }
 ],
 "metadata": {
  "kernelspec": {
   "display_name": "oneqmc",
   "language": "python",
   "name": "python3"
  },
  "language_info": {
   "codemirror_mode": {
    "name": "ipython",
    "version": 3
   },
   "file_extension": ".py",
   "mimetype": "text/x-python",
   "name": "python",
   "nbconvert_exporter": "python",
   "pygments_lexer": "ipython3",
   "version": "3.11.13"
  }
 },
 "nbformat": 4,
 "nbformat_minor": 5
}
