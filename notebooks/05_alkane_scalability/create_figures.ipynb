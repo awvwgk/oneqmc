{
 "cells": [
  {
   "cell_type": "code",
   "execution_count": null,
   "id": "e76c60e1-c1e0-4db5-af6d-a31d92111f07",
   "metadata": {},
   "outputs": [],
   "source": [
    "import numpy as np\n",
    "import pyscf\n",
    "import py3Dmol\n",
    "import pandas as pd\n",
    "\n",
    "import matplotlib.pyplot as plt"
   ]
  },
  {
   "cell_type": "code",
   "execution_count": null,
   "id": "39b665b4-e3f7-401c-8bfe-123faad9009a",
   "metadata": {},
   "outputs": [],
   "source": [
    "from oneqmc.analysis.visual import show_mol\n",
    "from oneqmc.convert_geo import load_molecules\n",
    "from oneqmc.analysis.plot import set_defaults\n",
    "from oneqmc.analysis import HARTREE_TO_KCAL, colours\n",
    "\n",
    "set_defaults()"
   ]
  },
  {
   "cell_type": "code",
   "execution_count": null,
   "id": "74725ee5",
   "metadata": {},
   "outputs": [],
   "source": [
    "CREATE_FIGURES = False"
   ]
  },
  {
   "cell_type": "code",
   "execution_count": null,
   "id": "a047adae-a23f-4ecf-9428-eaf8759899ef",
   "metadata": {},
   "outputs": [],
   "source": [
    "finetune_params = np.load(\n",
    "    \"../../experiment_results/05_alkane_scalability/finetune_params.npz\"\n",
    ")"
   ]
  },
  {
   "cell_type": "code",
   "execution_count": null,
   "id": "7812b505-fb06-44e4-89bd-859f323bbd5b",
   "metadata": {},
   "outputs": [],
   "source": [
    "dataset = load_molecules(\n",
    "    \"../../data/alkanes/scalability\", json_whitelist=\"alkane(6|7|8|9|10|11|12|13)\"\n",
    ")"
   ]
  },
  {
   "cell_type": "markdown",
   "id": "6be2ff5d-d9da-4f7c-892e-ba496687dc05",
   "metadata": {},
   "source": [
    "#### Isosurfaces of envelopes"
   ]
  },
  {
   "cell_type": "code",
   "execution_count": null,
   "id": "c98c10d5-5f60-48bd-adee-855e94c1d994",
   "metadata": {},
   "outputs": [],
   "source": [
    "class CubeDataFormatter:\n",
    "    def __init__(self, mol, nx=50, ny=50, nz=50):\n",
    "        self.charges = mol.charges\n",
    "        self.coords = mol.coords\n",
    "        margin = 3.0\n",
    "        extent = np.max(mol.coords, axis=0) - np.min(mol.coords, axis=0) + 2 * margin\n",
    "        self.box = np.diag(extent)\n",
    "        self.boxorig = np.min(mol.coords, axis=0) - margin\n",
    "\n",
    "        self.nx = nx\n",
    "        self.ny = ny\n",
    "        self.nz = nz\n",
    "        self.xs = np.linspace(0, 1, nx)\n",
    "        self.ys = np.linspace(0, 1, ny)\n",
    "        self.zs = np.linspace(0, 1, nz)\n",
    "\n",
    "    def get_coords(self):\n",
    "        frac_coords = np.stack(np.meshgrid(self.xs, self.ys, self.zs), axis=-1)\n",
    "        # permuting x<->y is necessary to match weird ordering of cube format\n",
    "        return np.einsum(\"yxzi,ij->xyzj\", frac_coords, self.box) + self.boxorig\n",
    "\n",
    "    def __call__(self, field) -> str:\n",
    "        assert field.ndim == 3\n",
    "        assert field.shape == (self.nx, self.ny, self.nz)\n",
    "        comment = \"\"\n",
    "        string = \"\"\n",
    "        string += comment + \"\\n\"\n",
    "        string += \"Created by OneQMC CubeFormatter\\n\"\n",
    "        string += f\"{len(self.coords):5d}\"\n",
    "        string += \"{:12.6f}{:12.6f}{:12.6f}\\n\".format(*tuple((self.boxorig).tolist()))\n",
    "        dx = self.xs[-1] if len(self.xs) == 1 else self.xs[1]\n",
    "        dy = self.ys[-1] if len(self.ys) == 1 else self.ys[1]\n",
    "        dz = self.zs[-1] if len(self.zs) == 1 else self.zs[1]\n",
    "        delta = (self.box.T * np.stack([dx, dy, dz])).T\n",
    "        string += (\n",
    "            f\"{self.nx:5d}{delta[0,0]:12.6f}{delta[0,1]:12.6f}{delta[0,2]:12.6f}\\n\"\n",
    "        )\n",
    "        string += (\n",
    "            f\"{self.ny:5d}{delta[1,0]:12.6f}{delta[1,1]:12.6f}{delta[1,2]:12.6f}\\n\"\n",
    "        )\n",
    "        string += (\n",
    "            f\"{self.nz:5d}{delta[2,0]:12.6f}{delta[2,1]:12.6f}{delta[2,2]:12.6f}\\n\"\n",
    "        )\n",
    "        for charge, coord in zip(self.charges, self.coords):\n",
    "            string += \"%5d%12.6f\" % (charge, 0.0)\n",
    "            string += \"{:12.6f}{:12.6f}{:12.6f}\\n\".format(*tuple((coord).tolist()))\n",
    "\n",
    "        # Sync to CPU if not there already\n",
    "        field = np.asarray(field)\n",
    "        for ix in range(self.nx):\n",
    "            for iy in range(self.ny):\n",
    "                for iz0, iz1 in pyscf.lib.prange(0, self.nz, 6):\n",
    "                    fmt = \"%13.5E\" * (iz1 - iz0) + \"\\n\"\n",
    "                    string += fmt % tuple(field[ix, iy, iz0:iz1].tolist())\n",
    "\n",
    "        return string\n",
    "\n",
    "\n",
    "def show_isosurface(\n",
    "    field_data,\n",
    "    iso_value: float = 0.05,\n",
    "    view=None,\n",
    "):\n",
    "    if view is None:\n",
    "        view = py3Dmol.view()\n",
    "    view.addVolumetricData(\n",
    "        field_data,\n",
    "        \"cube\",\n",
    "        {\n",
    "            \"isoval\": -iso_value,\n",
    "            \"smoothness\": 5,\n",
    "            \"opacity\": 0.8,\n",
    "            \"volformat\": \"cube\",\n",
    "            \"color\": \"blue\",\n",
    "        },\n",
    "    )\n",
    "    view.addVolumetricData(\n",
    "        field_data,\n",
    "        \"cube\",\n",
    "        {\n",
    "            \"isoval\": iso_value,\n",
    "            \"smoothness\": 5,\n",
    "            \"opacity\": 0.8,\n",
    "            \"volformat\": \"cube\",\n",
    "            \"color\": \"red\",\n",
    "        },\n",
    "    )\n",
    "    return view"
   ]
  },
  {
   "cell_type": "code",
   "execution_count": null,
   "id": "e0b63c44-b921-485f-b960-aecd90b5a0fc",
   "metadata": {},
   "outputs": [],
   "source": [
    "orb_ix = 35  # delocalized over many carbons\n",
    "mol_ix = 2"
   ]
  },
  {
   "cell_type": "code",
   "execution_count": null,
   "id": "2af67290-e369-49ac-8392-84f2403e6f48",
   "metadata": {},
   "outputs": [],
   "source": [
    "formatter = CubeDataFormatter(dataset[mol_ix], nx=150, nz=150)"
   ]
  },
  {
   "cell_type": "code",
   "execution_count": null,
   "id": "5149c1cf-348e-4c14-a583-b08eec7deec1",
   "metadata": {},
   "outputs": [],
   "source": [
    "grid = formatter.get_coords()"
   ]
  },
  {
   "cell_type": "code",
   "execution_count": null,
   "id": "e6443480-e5fb-4628-8fe5-36cf5acd3bad",
   "metadata": {},
   "outputs": [],
   "source": [
    "def envelope_fn(x, exponents, centers, coefs):\n",
    "    r = np.linalg.norm(centers - x[..., None, :], axis=-1)\n",
    "    exps = np.exp(-exponents * r[..., None])\n",
    "    return np.einsum(\"...ij,ij->...\", exps, coefs)"
   ]
  },
  {
   "cell_type": "code",
   "execution_count": null,
   "id": "74e0edb1-c828-49f7-bfdb-26cdc861a056",
   "metadata": {},
   "outputs": [],
   "source": [
    "coef = finetune_params[f\"envs_lac_{mol_ix}_se_envelope_up_feature_selector\"][\n",
    "    orb_ix, :, :, 0\n",
    "]\n",
    "field_values = envelope_fn(\n",
    "    grid,\n",
    "    finetune_params[f\"envs_lac_{mol_ix}_exponents\"].squeeze(0),\n",
    "    dataset[mol_ix].coords,\n",
    "    coef,\n",
    ")\n",
    "# Easier to visualize if it integrates to 1\n",
    "field_values /= np.abs(field_values).sum()"
   ]
  },
  {
   "cell_type": "code",
   "execution_count": null,
   "id": "2a1950fa-ebf3-4a92-a35c-f898a41afef2",
   "metadata": {},
   "outputs": [],
   "source": [
    "field_data = formatter(field_values)"
   ]
  },
  {
   "cell_type": "code",
   "execution_count": null,
   "id": "72fe2de0-25e9-4c96-a70d-91c734ecff70",
   "metadata": {},
   "outputs": [],
   "source": [
    "view = show_mol(dataset[mol_ix])\n",
    "show_isosurface(field_data, view=view, iso_value=1e-5)\n",
    "view.rotate(90, 'x')"
   ]
  },
  {
   "cell_type": "markdown",
   "id": "4a111df2-3275-4196-9d8e-465dcda2c4b5",
   "metadata": {},
   "source": [
    "### Seeing the overall sparsity pattern"
   ]
  },
  {
   "cell_type": "code",
   "execution_count": null,
   "id": "a450002c-171b-48c6-a6c0-69f937a282d5",
   "metadata": {},
   "outputs": [],
   "source": [
    "def localization_score(name, mol_ix):\n",
    "    coef_up = finetune_params[f\"envs_{name}_{mol_ix}_se_envelope_up_feature_selector\"][\n",
    "        :, :, :, 0\n",
    "    ]\n",
    "    coef_down = finetune_params[\n",
    "        f\"envs_{name}_{mol_ix}_se_envelope_down_feature_selector\"\n",
    "    ][:, :, :, 0]\n",
    "    c = np.concatenate([coef_up, coef_down], axis=-1)\n",
    "    abs_c = np.abs(c).sum(-1)\n",
    "    loc_score = abs_c.max(-1) / abs_c.sum(-1)\n",
    "    return loc_score"
   ]
  },
  {
   "cell_type": "code",
   "execution_count": null,
   "id": "11658f00-2628-4e63-9950-7f92af3373cb",
   "metadata": {},
   "outputs": [],
   "source": [
    "plt.figure(figsize=(8.5, 3.5))\n",
    "plt.plot(\n",
    "    localization_score(\"lac\", mol_ix), label=\"Finetuned from LAC\", c=colours.DARKTEAL\n",
    ")\n",
    "plt.plot(localization_score(\"scratch\", mol_ix), label=\"From scratch\", c=colours.TEAL)\n",
    "plt.plot(\n",
    "    localization_score(\"final_pretrain\", mol_ix),\n",
    "    label=\"LAC pretrained\",\n",
    "    c=colours.DARKYELLOW,\n",
    ")\n",
    "plt.plot(\n",
    "    localization_score(\"10k_pretrain\", mol_ix),\n",
    "    label=\"LAC pretrained 10k\",\n",
    "    c=colours.YELLOW,\n",
    ")\n",
    "\n",
    "plt.xlabel(\"Orbital index\")\n",
    "plt.ylabel(\"Localization score\")\n",
    "plt.legend(fontsize=10)"
   ]
  },
  {
   "cell_type": "code",
   "execution_count": null,
   "id": "19040a53-88d1-42eb-87b5-4eededd83365",
   "metadata": {},
   "outputs": [],
   "source": [
    "slaters = np.load(\"../../experiment_results/05_alkane_scalability/slaters.npz\")"
   ]
  },
  {
   "cell_type": "code",
   "execution_count": null,
   "id": "43ba9b0b-a479-4464-8e8c-ade44ccedd48",
   "metadata": {},
   "outputs": [],
   "source": [
    "s8 = slaters[\"slaters_lac_2\"][0]\n",
    "s7 = np.zeros_like(s8)\n",
    "mask = np.ones_like(s8)\n",
    "s7[:58, :42] = slaters[\"slaters_lac_1\"][0][:, :42]\n",
    "s7[:58, 48:64] = slaters[\"slaters_lac_1\"][0][:, 42:]\n",
    "mask[:58, :42] = 0\n",
    "mask[:58, 48:64] = 0"
   ]
  },
  {
   "cell_type": "code",
   "execution_count": null,
   "id": "d80520d8-4691-4f93-8a6c-257f94b78640",
   "metadata": {},
   "outputs": [],
   "source": [
    "vmax = max(np.max(np.abs(s8 - s7)), np.max(np.abs(s8)), np.max(np.abs(s7)))"
   ]
  },
  {
   "cell_type": "code",
   "execution_count": null,
   "id": "e17ca5c3-0c9f-4b13-a489-b5dd9e56b1de",
   "metadata": {},
   "outputs": [],
   "source": [
    "from matplotlib.colors import LinearSegmentedColormap\n",
    "\n",
    "cmap0 = LinearSegmentedColormap.from_list(\"\", [\"white\", \"darkblue\"])\n",
    "cmap1 = LinearSegmentedColormap.from_list(\"\", [\"white\", \"lightgrey\"])"
   ]
  },
  {
   "cell_type": "code",
   "execution_count": null,
   "id": "d168d11b-693b-4a6b-a746-e2e210c9aa3b",
   "metadata": {},
   "outputs": [],
   "source": [
    "plt.imshow(np.abs(s8 - s7), vmin=0, vmax=vmax, cmap=cmap0)\n",
    "plt.imshow(np.ones_like(s7), alpha=mask.astype(\"float\"), cmap=cmap1)\n",
    "plt.ylabel(\"Electrons ordered by $x$ coord\")\n",
    "plt.annotate(\"Electrons non-existent in heptane\", (12, 62.5), fontsize=10)\n",
    "plt.annotate(\"Orbitals non-existent in heptane\", (44, 50), fontsize=10, rotation=90)\n",
    "plt.colorbar()\n",
    "plt.xticks([])\n",
    "plt.yticks([])\n",
    "plt.tight_layout()\n",
    "plt.show()"
   ]
  },
  {
   "cell_type": "code",
   "execution_count": null,
   "id": "f29603d1-20ab-431d-a680-68236e5d4024",
   "metadata": {},
   "outputs": [],
   "source": [
    "plt.imshow(np.abs(s8), vmin=0, vmax=vmax, cmap=cmap0)\n",
    "plt.ylabel(\"Electrons ordered by $x$ coord\")\n",
    "plt.xticks([])\n",
    "plt.yticks([])\n",
    "plt.tight_layout()\n",
    "plt.show()"
   ]
  },
  {
   "cell_type": "code",
   "execution_count": null,
   "id": "57899ddd-d5c4-4e19-9763-94c4981986ab",
   "metadata": {},
   "outputs": [],
   "source": [
    "plt.imshow(np.abs(slaters[\"slaters_lac_1\"][0]), vmin=0, vmax=vmax, cmap=cmap0)\n",
    "plt.ylabel(\"Electrons ordered by $x$ coord\")\n",
    "plt.xticks([])\n",
    "plt.yticks([])\n",
    "plt.tight_layout()\n",
    "plt.show()"
   ]
  },
  {
   "cell_type": "code",
   "execution_count": null,
   "id": "508c463a-93ff-4119-90d6-35e32ff69d75",
   "metadata": {},
   "outputs": [],
   "source": [
    "plt.imshow(np.abs(slaters[\"grads_lac_2\"][0]), vmin=0, cmap=cmap0)\n",
    "plt.ylabel(\"Electrons ordered by $x$ coord\")\n",
    "plt.xticks([])\n",
    "plt.yticks([])\n",
    "plt.tight_layout()\n",
    "plt.show()"
   ]
  },
  {
   "cell_type": "markdown",
   "id": "3b3324e2-5693-4af0-b535-c5160d9f960b",
   "metadata": {},
   "source": [
    "# Linear scaling"
   ]
  },
  {
   "cell_type": "code",
   "execution_count": null,
   "id": "e410e70e",
   "metadata": {},
   "outputs": [],
   "source": [
    "df = pd.read_csv(\"../../experiment_results/05_alkane_scalability/energy.csv\")"
   ]
  },
  {
   "cell_type": "code",
   "execution_count": null,
   "id": "d515b22c",
   "metadata": {},
   "outputs": [],
   "source": [
    "def plot_linearly_extrapolated(subdf, ax):\n",
    "    predictors = np.stack([subdf[\"C\"], np.ones_like(subdf[\"C\"])], axis=-1)\n",
    "    targets = HARTREE_TO_KCAL * subdf[\"rmean\"]\n",
    "    output = np.linalg.lstsq(predictors, targets, rcond=None)\n",
    "    fitted_values = predictors @ output[0]\n",
    "    residuals = targets - fitted_values\n",
    "    mae = (residuals**2).mean()\n",
    "\n",
    "    ax.plot(subdf[\"C\"], residuals, color=colours.DARKERTEAL)\n",
    "    ax.set_xlabel(\"C\")\n",
    "    ax.set_ylabel(\"Residual from linear fit (kcal/mol)\")\n",
    "    ax.text(7, 0.8, f\"MSE={mae:.3}\", fontsize=15, c=colours.DARKERTEAL)\n",
    "    ax.axhspan(-1, 1, color=colours.TEAL, alpha=0.25, lw=0)"
   ]
  },
  {
   "cell_type": "code",
   "execution_count": null,
   "id": "df0437ca",
   "metadata": {},
   "outputs": [],
   "source": [
    "plot_linearly_extrapolated(\n",
    "    df[(df[\"sampler\"] == \"double-langevin\") & (df[\"steps\"] == \"180000\")], plt.gca()\n",
    ")"
   ]
  },
  {
   "cell_type": "code",
   "execution_count": null,
   "id": "2d571a3b",
   "metadata": {},
   "outputs": [],
   "source": [
    "fig, axs = plt.subplots(nrows=1, ncols=2, figsize=(9, 4))\n",
    "plot_linearly_extrapolated(\n",
    "    df[(df[\"sampler\"] == \"double-langevin\") & (df[\"steps\"] == \"180000\")], axs[0]\n",
    ")\n",
    "\n",
    "subdf1 = df[(df[\"sampler\"] == \"double-langevin\") & (df[\"steps\"] == \"180000\")]\n",
    "subdf2 = df[df[\"mode\"] == \"CCSD(T)\"]\n",
    "\n",
    "x = subdf1[\"C\"]\n",
    "y = HARTREE_TO_KCAL * (np.array(subdf1[\"rmean\"]) - np.array(subdf2[\"rmean\"]))\n",
    "\n",
    "coef = np.polyfit(x, y, 1)\n",
    "poly1d_fn = np.poly1d(coef)\n",
    "axs[1].set_xlabel(\"C\")\n",
    "axs[1].set_ylabel(\"Orbformer - CCSD(T)/CBS (kcal/mol)\")\n",
    "\n",
    "axs[1].plot(x, y, \"o\", x, poly1d_fn(x), \"-\", c=colours.TEAL)\n",
    "fig.tight_layout()\n",
    "if CREATE_FIGURES:\n",
    "    plt.savefig(\"linear-scaling-two-plot.pdf\", dpi=600)"
   ]
  },
  {
   "cell_type": "code",
   "execution_count": null,
   "id": "adf2f2d1",
   "metadata": {},
   "outputs": [],
   "source": []
  }
 ],
 "metadata": {
  "kernelspec": {
   "display_name": "oneqmc",
   "language": "python",
   "name": "python3"
  },
  "language_info": {
   "codemirror_mode": {
    "name": "ipython",
    "version": 3
   },
   "file_extension": ".py",
   "mimetype": "text/x-python",
   "name": "python",
   "nbconvert_exporter": "python",
   "pygments_lexer": "ipython3",
   "version": "3.11.13"
  }
 },
 "nbformat": 4,
 "nbformat_minor": 5
}
