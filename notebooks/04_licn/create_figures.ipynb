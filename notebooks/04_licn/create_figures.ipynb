{
 "cells": [
  {
   "cell_type": "code",
   "execution_count": null,
   "id": "769eb450-b6bd-4918-9912-a9ae4487cb48",
   "metadata": {},
   "outputs": [],
   "source": [
    "import pandas as pd\n",
    "import numpy as np\n",
    "import matplotlib.pyplot as plt\n",
    "import matplotlib.image as mpimg\n",
    "from matplotlib.offsetbox import OffsetImage, AnnotationBbox\n",
    "\n",
    "from oneqmc.analysis import HARTREE_TO_KCAL\n",
    "from oneqmc.analysis.plot import set_defaults\n",
    "\n",
    "set_defaults()"
   ]
  },
  {
   "cell_type": "code",
   "execution_count": null,
   "id": "d3919bd4-6e9d-46f7-a93c-2c9473049b9d",
   "metadata": {},
   "outputs": [],
   "source": [
    "SAVE_FIGURES = True"
   ]
  },
  {
   "cell_type": "code",
   "execution_count": null,
   "id": "d7eafcac-1d93-43d3-9e9a-8d6b8467ba0f",
   "metadata": {},
   "outputs": [],
   "source": [
    "df = pd.read_csv(\"../../experiment_results/04_licn/energy.csv\")"
   ]
  },
  {
   "cell_type": "code",
   "execution_count": null,
   "id": "928acf9d-0068-42ab-8932-3b4247d3e3dd",
   "metadata": {},
   "outputs": [],
   "source": [
    "ref_energy = np.asarray(df[df[\"dataset\"] == \"Reference\"][\"rmean\"])"
   ]
  },
  {
   "cell_type": "code",
   "execution_count": null,
   "id": "33f56243-6aad-4011-a005-39aae207b006",
   "metadata": {},
   "outputs": [],
   "source": [
    "plt.figure(figsize=(5, 5))\n",
    "fts = 2 ** np.arange(0, 13)\n",
    "subdfs = [\n",
    "    (df[df[\"dataset\"] == \"Scratch\"], \"From scratch\", \"#4e938d\"),\n",
    "    (df[(df[\"pretraining\"] == 512000) & (df[\"dataset\"] == \"TM\")], \"TinyMol\", \"#8661c5\"),\n",
    "    (\n",
    "        df[(df[\"pretraining\"] == 200000) & (df[\"dataset\"] == \"OC0\")],\n",
    "        \"LAC Phase 1\",\n",
    "        \"#0078d4\",\n",
    "    ),\n",
    "    (\n",
    "        df[(df[\"pretraining\"] == 400000) & (df[\"dataset\"] == \"OC1\")],\n",
    "        \"LAC full\",\n",
    "        \"#27474a\",\n",
    "    ),\n",
    "]\n",
    "eps = 0  # To slightly offset the plots\n",
    "for subdf, label, colour in subdfs:\n",
    "    vals, yerrs = [], []\n",
    "    for ft in fts:\n",
    "        energy = np.asarray(subdf[subdf[\"finetuning\"] == ft][\"rmean\"])\n",
    "        diff = (energy - energy.mean()) - (ref_energy - ref_energy.mean())\n",
    "        mae = HARTREE_TO_KCAL * np.abs(diff).mean()\n",
    "        yerr = HARTREE_TO_KCAL * np.abs(diff).std()\n",
    "        vals.append(mae)\n",
    "        yerrs.append(yerr)\n",
    "    plt.errorbar(fts * np.exp(eps), vals, yerr=yerrs, c=colour, label=label, marker=\"o\")\n",
    "    eps += 0.02\n",
    "\n",
    "plt.yscale(\"log\")\n",
    "plt.xscale(\"log\")\n",
    "plt.xlabel(\"Scratch training or finetuning steps\")\n",
    "plt.ylabel(\"MARE (kcal/mol)\")\n",
    "plt.legend()\n",
    "\n",
    "arrimg = mpimg.imread(\"../../experiment_results/04_licn/licn-molecule.png\")\n",
    "imagebox = OffsetImage(arrimg, zoom=0.25)\n",
    "ab = AnnotationBbox(imagebox, (800, 23), frameon=False)\n",
    "plt.gca().add_artist(ab)\n",
    "\n",
    "plt.gca().axhspan(0, 5, color=\"grey\", alpha=0.2, lw=0)\n",
    "plt.gca().axhline(1, color=\"k\", ls=\":\", zorder=1)\n",
    "plt.gca().annotate(\"(e)\", (0.9, 1100))\n",
    "\n",
    "plt.tight_layout()\n",
    "if SAVE_FIGURES:\n",
    "    plt.savefig(\"licn.pdf\")"
   ]
  },
  {
   "cell_type": "code",
   "execution_count": null,
   "id": "85720a1a-104e-4fda-879a-5b18eb2f5c71",
   "metadata": {},
   "outputs": [],
   "source": []
  }
 ],
 "metadata": {
  "kernelspec": {
   "display_name": "oneqmc",
   "language": "python",
   "name": "python3"
  },
  "language_info": {
   "codemirror_mode": {
    "name": "ipython",
    "version": 3
   },
   "file_extension": ".py",
   "mimetype": "text/x-python",
   "name": "python",
   "nbconvert_exporter": "python",
   "pygments_lexer": "ipython3",
   "version": "3.11.13"
  }
 },
 "nbformat": 4,
 "nbformat_minor": 5
}
