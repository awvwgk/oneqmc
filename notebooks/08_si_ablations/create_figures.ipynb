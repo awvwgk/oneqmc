{
 "cells": [
  {
   "cell_type": "markdown",
   "id": "ceb67e89-5ecb-4614-aefb-314f0b4ecae6",
   "metadata": {},
   "source": [
    "# Determinant penalty ablation study"
   ]
  },
  {
   "cell_type": "code",
   "execution_count": null,
   "id": "9ca6a4ad-8ce8-4567-906d-53443a526516",
   "metadata": {},
   "outputs": [],
   "source": [
    "import numpy as np\n",
    "import matplotlib.pyplot as plt\n",
    "\n",
    "from oneqmc.analysis.plot import set_defaults\n",
    "from oneqmc.analysis import colours\n",
    "\n",
    "set_defaults()"
   ]
  },
  {
   "cell_type": "code",
   "execution_count": null,
   "id": "4bb89054-f821-484b-9872-03ba6209bcc1",
   "metadata": {},
   "outputs": [],
   "source": [
    "t = np.arange(0, 200, 0.025)"
   ]
  },
  {
   "cell_type": "code",
   "execution_count": null,
   "id": "ed149397-a209-423d-9ee5-1f44cffe1fa3",
   "metadata": {},
   "outputs": [],
   "source": [
    "smooth_energy = np.load(\n",
    "    \"../../experiment_results/08_si_ablations/det_penalty/energy.npz\"\n",
    ")"
   ]
  },
  {
   "cell_type": "code",
   "execution_count": null,
   "id": "5358e2a0-c1f2-4841-b2f6-b559efdb3858",
   "metadata": {},
   "outputs": [],
   "source": [
    "plt.figure(figsize=(7.5, 5.25))\n",
    "plt.plot(\n",
    "    t,\n",
    "    smooth_energy[\"standard_psiformer\"],\n",
    "    label=\"Psiformer\",\n",
    "    c=colours.TEAL,\n",
    ")\n",
    "plt.plot(\n",
    "    t, smooth_energy[\"nopretrain_psiformer\"], label=\"Psiformer no HF\", c=colours.YELLOW\n",
    ")\n",
    "plt.plot(\n",
    "    t,\n",
    "    smooth_energy[\"onedet_psiformer\"],\n",
    "    label=\"Psiformer 1 determinant\",\n",
    "    linestyle=\"dashed\",\n",
    "    c=colours.PURPLE,\n",
    ")\n",
    "plt.plot(\n",
    "    t,\n",
    "    smooth_energy[\"onedet_nopretrain_psiformer\"],\n",
    "    label=\"Psiformer 1 determinant no HF\",\n",
    "    linestyle=\"dashed\",\n",
    "    c=colours.ORANGE,\n",
    ")\n",
    "plt.plot(t, smooth_energy[\"orbformer\"], label=\"Orbformer no HF\")\n",
    "plt.plot(\n",
    "    t,\n",
    "    smooth_energy[\"orbformer_no_pen\"],\n",
    "    label=\"Orbformer no HF, no penalty,\\nold initialization\",\n",
    "    c=\"tab:green\",\n",
    ")\n",
    "plt.ylim([-40.5148, -40.5132])\n",
    "plt.legend()\n",
    "plt.xlabel(\"Iteration (thousands)\")\n",
    "plt.ylabel(\"Smoothed energy (Ha)\")\n",
    "plt.tight_layout()\n",
    "plt.show()"
   ]
  },
  {
   "cell_type": "markdown",
   "id": "f9ab1039-5eed-4359-9d03-cae0c02ada6a",
   "metadata": {},
   "source": [
    "\n",
    "# Langevin sampling ablation study"
   ]
  },
  {
   "cell_type": "code",
   "execution_count": null,
   "id": "4be11845",
   "metadata": {},
   "outputs": [],
   "source": [
    "collated_stats = np.load(\n",
    "    \"../../experiment_results/08_si_ablations/langevin/mala.npz\"\n",
    ")\n",
    "collated_stats2 = np.load(\n",
    "    \"../../experiment_results/08_si_ablations/langevin/ula_mala.npz\"\n",
    ")\n",
    "time = np.arange(len(collated_stats[\"sampling/tau\"]))"
   ]
  },
  {
   "cell_type": "code",
   "execution_count": null,
   "id": "3f20989c",
   "metadata": {},
   "outputs": [],
   "source": [
    "fig, (ax1, ax2, ax3) = plt.subplots(nrows=3, sharex=True, figsize=(5, 7))\n",
    "\n",
    "ax1.plot(time, collated_stats[\"sampling/tau\"], label=\"MALA\", c=colours.BRAND_TEAL)\n",
    "ax1.plot(time, collated_stats2[\"sampling/tau\"], label=\"ULA+MALA\", c=colours.ORANGE)\n",
    "ax1.axvline(150, c=colours.ORANGE, linestyle=\"--\")\n",
    "ax1.legend()\n",
    "ax1.set_ylabel(\"Step size $\\\\tau^{(t)}$\")\n",
    "\n",
    "ax3.plot(\n",
    "    time,\n",
    "    collated_stats[\"sampling/log_psi\"].mean(-1),\n",
    "    label=\"MALA\",\n",
    "    c=colours.BRAND_TEAL,\n",
    ")\n",
    "ax3.plot(\n",
    "    time,\n",
    "    collated_stats2[\"sampling/log_psi\"].mean(-1),\n",
    "    label=\"ULA+MALA\",\n",
    "    c=colours.ORANGE,\n",
    ")\n",
    "ax3.axvline(150, c=colours.ORANGE, linestyle=\"--\")\n",
    "ax3.set_ylabel(\"Mean $\\\\log | \\\\Psi_\\\\theta|$\")\n",
    "\n",
    "ax2.plot(\n",
    "    time, collated_stats[\"sampling/pdists\"].mean(-1), label=\"MALA\", c=colours.BRAND_TEAL\n",
    ")\n",
    "ax2.plot(\n",
    "    time,\n",
    "    collated_stats2[\"sampling/pdists\"].mean(-1),\n",
    "    label=\"ULA+MALA\",\n",
    "    c=colours.ORANGE,\n",
    ")\n",
    "ax2.axvline(150, c=colours.ORANGE, linestyle=\"--\")\n",
    "ax2.set_ylabel(\"Mean elec-elec distance\")\n",
    "\n",
    "ax3.set_xlabel(\"Iteration $t$\")\n",
    "\n",
    "plt.tight_layout()\n",
    "plt.subplots_adjust(wspace=0, hspace=0.07)"
   ]
  },
  {
   "cell_type": "markdown",
   "id": "17763495",
   "metadata": {},
   "source": [
    "# Iteration timing ablation study\n",
    "\n",
    "### Configurations investigated\n",
    "\n",
    "1. Psiformer no flash attn, loop laplacian float32\n",
    "1. Orbformer no flash attn, loop laplacian float32\n",
    "1. Orbformer no flash attn, loop laplacian tf32\n",
    "1. Orbformer no flash attn, forward laplacian tf32\n",
    "1. Orbformer flash attn, forward laplacian tf32\n",
    "\n",
    "These configurations can be run with the below commands, respectively.\n",
    "\n",
    "1. `python scripts/transferable.py -a psiformer-new -d SYSTEM --electron-batch-size 256 -n 100 --max-eq-steps 10 --metric-logger-period 25 --metric-logger tb h5 --det-penalty-weight 0.0 --no-balance-grad --no-flash-attn --laplacian loop --jax-matmul-precision highest`\n",
    "2. `python scripts/transferable.py -a orbformer-se -d SYSTEM --electron-batch-size 256 -n 100 --max-eq-steps 10 --metric-logger-period 25 --metric-logger tb h5 --det-penalty-weight 0.0 --no-balance-grad --no-flash-attn --laplacian loop --jax-matmul-precision highest`\n",
    "3. `python scripts/transferable.py -a orbformer-se -d SYSTEM --electron-batch-size 256 -n 100 --max-eq-steps 10 --metric-logger-period 25 --metric-logger tb h5 --det-penalty-weight 0.0 --no-balance-grad --no-flash-attn --laplacian loop --jax-matmul-precision high`\n",
    "4. `python scripts/transferable.py -a orbformer-se -d SYSTEM --electron-batch-size 256 -n 100 --max-eq-steps 10 --metric-logger-period 25 --metric-logger tb h5 --det-penalty-weight 0.0 --no-balance-grad --no-flash-attn --laplacian forward --jax-matmul-precision high`\n",
    "5. `python scripts/transferable.py -a orbformer-se -d SYSTEM --electron-batch-size 256 -n 100 --max-eq-steps 10 --metric-logger-period 25 --metric-logger tb h5 --det-penalty-weight 0.0 --no-balance-grad --flash-attn --laplacian forward --jax-matmul-precision high`"
   ]
  },
  {
   "cell_type": "code",
   "execution_count": null,
   "id": "badf8717",
   "metadata": {},
   "outputs": [],
   "source": [
    "names = {\n",
    "    \"mep_2\": r\"Ethane ($E=18$)\",\n",
    "    \"mep_418\": r\"Formamide ($E=24$)\",\n",
    "    \"mep_548\": r\"Propanol ($E=34$)\",\n",
    "    \"mep_1327\": r\"2-Aminopropan-2-ol ($E=42$)\",\n",
    "    \"mep_1106\": r\"L-Alanine ($E=48$)\",\n",
    "}\n",
    "\n",
    "data = {\n",
    "    \"mep_2\": np.array([47.0, 85.0, 78.0, 51.0, 47.0]),\n",
    "    \"mep_418\": np.array([64.0, 112.0, 81.0, 57.0, 54.0]),\n",
    "    \"mep_548\": np.array([141.0, 232.0, 224.0, 111.0, 101.0]),\n",
    "    \"mep_1327\": np.array([211.0, 330.0, 309.0, 150.0, 134.0]),\n",
    "    \"mep_1106\": np.array([259.0, 392.0, 257.0, 159.0, 153.0]),\n",
    "}"
   ]
  },
  {
   "cell_type": "code",
   "execution_count": null,
   "id": "95e87cd4",
   "metadata": {},
   "outputs": [],
   "source": [
    "categorical = [\n",
    "    colours.BRAND_TEAL,\n",
    "    colours.YELLOW,\n",
    "    colours.BRAND_PURPLE,\n",
    "    colours.GREY,\n",
    "    colours.BRAND_RED,\n",
    "]\n",
    "\n",
    "plt.figure(figsize=(10, 5.4))\n",
    "for i, (k, v) in enumerate(data.items()):\n",
    "    plt.barh(\n",
    "        np.arange(len(v) - 1, 0, -1) + 0.17 * (2 - i),\n",
    "        v[1:] / v[0] - 1,\n",
    "        height=0.14,\n",
    "        left=1,\n",
    "        label=names[k],\n",
    "        color=categorical[i],\n",
    "    )\n",
    "\n",
    "plt.xscale(\"log\")\n",
    "plt.minorticks_off()\n",
    "plt.xticks([0.5, 0.7, 1, 1.4, 2], [0.5, 0.7, 1, 1.4, 2])\n",
    "plt.axvline(1, c=\"k\")\n",
    "plt.yticks(\n",
    "    [4, 3, 2, 1],\n",
    "    [\"Naive Orbformer\", \"+ TF32\", \"+ Forward Laplacian\", \"+ Flash Attention\"],\n",
    ")\n",
    "plt.xlabel(\"Iteration timing relative to naive Psiformer\")\n",
    "plt.xscale(\"log\")\n",
    "plt.legend(loc=\"lower right\")\n",
    "plt.tight_layout()"
   ]
  },
  {
   "cell_type": "code",
   "execution_count": null,
   "id": "f888b4bf",
   "metadata": {},
   "outputs": [],
   "source": []
  }
 ],
 "metadata": {
  "kernelspec": {
   "display_name": "oneqmc",
   "language": "python",
   "name": "python3"
  },
  "language_info": {
   "codemirror_mode": {
    "name": "ipython",
    "version": 3
   },
   "file_extension": ".py",
   "mimetype": "text/x-python",
   "name": "python",
   "nbconvert_exporter": "python",
   "pygments_lexer": "ipython3",
   "version": "3.11.13"
  }
 },
 "nbformat": 4,
 "nbformat_minor": 5
}
